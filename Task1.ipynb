{
  "nbformat": 4,
  "nbformat_minor": 0,
  "metadata": {
    "colab": {
      "provenance": []
    },
    "kernelspec": {
      "name": "python3",
      "display_name": "Python 3"
    },
    "language_info": {
      "name": "python"
    }
  },
  "cells": [
    {
      "cell_type": "code",
      "execution_count": 3,
      "metadata": {
        "colab": {
          "base_uri": "https://localhost:8080/"
        },
        "id": "UibbaLKTnf4R",
        "outputId": "3e57b42f-c193-4a62-d3c6-01e1d8adfb32"
      },
      "outputs": [
        {
          "output_type": "stream",
          "name": "stdout",
          "text": [
            "Initial Dataset Info:\n",
            "<class 'pandas.core.frame.DataFrame'>\n",
            "RangeIndex: 891 entries, 0 to 890\n",
            "Data columns (total 12 columns):\n",
            " #   Column       Non-Null Count  Dtype  \n",
            "---  ------       --------------  -----  \n",
            " 0   PassengerId  891 non-null    int64  \n",
            " 1   Survived     891 non-null    int64  \n",
            " 2   Pclass       891 non-null    int64  \n",
            " 3   Name         891 non-null    object \n",
            " 4   Sex          891 non-null    object \n",
            " 5   Age          714 non-null    float64\n",
            " 6   SibSp        891 non-null    int64  \n",
            " 7   Parch        891 non-null    int64  \n",
            " 8   Ticket       891 non-null    object \n",
            " 9   Fare         891 non-null    float64\n",
            " 10  Cabin        204 non-null    object \n",
            " 11  Embarked     889 non-null    object \n",
            "dtypes: float64(2), int64(5), object(5)\n",
            "memory usage: 83.7+ KB\n",
            "None\n",
            "\n",
            "✅ Data Preprocessing Completed! File saved as 'preprocessed_titanic.csv'.\n"
          ]
        },
        {
          "output_type": "stream",
          "name": "stderr",
          "text": [
            "<ipython-input-3-af4ed36aae7d>:18: FutureWarning: A value is trying to be set on a copy of a DataFrame or Series through chained assignment using an inplace method.\n",
            "The behavior will change in pandas 3.0. This inplace method will never work because the intermediate object on which we are setting values always behaves as a copy.\n",
            "\n",
            "For example, when doing 'df[col].method(value, inplace=True)', try using 'df.method({col: value}, inplace=True)' or df[col] = df[col].method(value) instead, to perform the operation inplace on the original object.\n",
            "\n",
            "\n",
            "  df[\"Age\"].fillna(df[\"Age\"].median(), inplace=True)\n",
            "<ipython-input-3-af4ed36aae7d>:21: FutureWarning: A value is trying to be set on a copy of a DataFrame or Series through chained assignment using an inplace method.\n",
            "The behavior will change in pandas 3.0. This inplace method will never work because the intermediate object on which we are setting values always behaves as a copy.\n",
            "\n",
            "For example, when doing 'df[col].method(value, inplace=True)', try using 'df.method({col: value}, inplace=True)' or df[col] = df[col].method(value) instead, to perform the operation inplace on the original object.\n",
            "\n",
            "\n",
            "  df[\"Embarked\"].fillna(df[\"Embarked\"].mode()[0], inplace=True)\n"
          ]
        }
      ],
      "source": [
        "# Import necessary libraries\n",
        "import pandas as pd\n",
        "import numpy as np\n",
        "from sklearn.preprocessing import StandardScaler, OneHotEncoder\n",
        "\n",
        "# Load the Titanic dataset\n",
        "file_path = r\"train.csv\"  # Update path if needed\n",
        "df = pd.read_csv(file_path)\n",
        "\n",
        "# Display initial dataset info\n",
        "print(\"Initial Dataset Info:\")\n",
        "print(df.info())\n",
        "\n",
        "# ------------------------------\n",
        "# 1️⃣ Handle Missing Values\n",
        "# ------------------------------\n",
        "# Fill missing Age values with median\n",
        "df[\"Age\"].fillna(df[\"Age\"].median(), inplace=True)\n",
        "\n",
        "# Fill missing Embarked values with mode\n",
        "df[\"Embarked\"].fillna(df[\"Embarked\"].mode()[0], inplace=True)\n",
        "\n",
        "# Drop Cabin column (too many missing values)\n",
        "df.drop(columns=[\"Cabin\"], inplace=True)\n",
        "\n",
        "# ------------------------------\n",
        "# 2️⃣ Convert Categorical Data to Numerical\n",
        "# ------------------------------\n",
        "# Convert 'Sex' column to binary (Male = 1, Female = 0)\n",
        "df[\"Sex\"] = df[\"Sex\"].map({\"male\": 1, \"female\": 0})\n",
        "\n",
        "# One-hot encode 'Embarked' column\n",
        "encoder = OneHotEncoder(sparse_output=False, drop=\"first\")\n",
        "encoded_embarked = pd.DataFrame(encoder.fit_transform(df[[\"Embarked\"]]))\n",
        "encoded_embarked.columns = encoder.get_feature_names_out([\"Embarked\"])\n",
        "\n",
        "# Merge encoded features and drop original column\n",
        "df = pd.concat([df, encoded_embarked], axis=1)\n",
        "df.drop(columns=[\"Embarked\"], inplace=True)\n",
        "\n",
        "# ------------------------------\n",
        "# 3️⃣ Handle Outliers using IQR (Fix Applied)\n",
        "# ------------------------------\n",
        "# Select only numeric columns\n",
        "numeric_cols = df.select_dtypes(include=[\"number\"]).columns\n",
        "\n",
        "# Compute IQR for numeric columns only\n",
        "Q1 = df[numeric_cols].quantile(0.25)\n",
        "Q3 = df[numeric_cols].quantile(0.75)\n",
        "IQR = Q3 - Q1\n",
        "\n",
        "# Define outlier thresholds\n",
        "lower_bound = Q1 - 1.5 * IQR\n",
        "upper_bound = Q3 + 1.5 * IQR\n",
        "\n",
        "# Remove outliers for numeric columns only\n",
        "df = df[~((df[numeric_cols] < lower_bound) | (df[numeric_cols] > upper_bound)).any(axis=1)]\n",
        "\n",
        "# ------------------------------\n",
        "# 4️⃣ Normalize Numerical Features\n",
        "# ------------------------------\n",
        "scaler = StandardScaler()\n",
        "df[[\"Age\", \"Fare\"]] = scaler.fit_transform(df[[\"Age\", \"Fare\"]])\n",
        "\n",
        "# ------------------------------\n",
        "# 5️⃣ Save Preprocessed Data\n",
        "# ------------------------------\n",
        "output_file = r\"C:\\Users\\RAMESH\\Downloads\\titanic\\preprocessed_titanic.csv\"\n",
        "df.to_csv(output_file, index=False)\n",
        "\n",
        "print(\"\\n✅ Data Preprocessing Completed! File saved as 'preprocessed_titanic.csv'.\")\n"
      ]
    }
  ]
}